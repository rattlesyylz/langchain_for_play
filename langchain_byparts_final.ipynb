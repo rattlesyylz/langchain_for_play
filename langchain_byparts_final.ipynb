{
 "cells": [
  {
   "cell_type": "code",
   "execution_count": 25,
   "id": "b1d941ee-5a82-41a0-8882-0f076596262b",
   "metadata": {
    "tags": []
   },
   "outputs": [],
   "source": [
    "# ! pip install langchain\n",
    "# ! pip install langchain_google_vertexai\n",
    "# ! pip install google-cloud-aiplatform\n",
    "# ! pip install google-auth\n",
    "# ! pip install pypdf\n",
    "# ! pip install tiktoken\n",
    "# ! pip install -U langchain-google-vertexai\n",
    "# ! pip install chromadb\n",
    "#!pip install -U langchain-google-vertexai"
   ]
  },
  {
   "cell_type": "code",
   "execution_count": 2,
   "id": "d305c36b-389c-47b4-be7e-58c7dffc943e",
   "metadata": {
    "tags": []
   },
   "outputs": [],
   "source": [
    "from google.cloud import aiplatform\n",
    "from google.oauth2 import service_account\n",
    "from langchain.llms import VertexAI\n",
    "from langchain_google_vertexai import VertexAI\n",
    "from langchain import PromptTemplate, LLMChain"
   ]
  },
  {
   "cell_type": "code",
   "execution_count": 19,
   "id": "7118d11f-1952-4858-8d7f-ab00aed320fe",
   "metadata": {
    "tags": []
   },
   "outputs": [],
   "source": [
    "from langchain.retrievers import SVMRetriever\n",
    "from langchain.retrievers import TFIDFRetriever\n",
    "from langchain.document_loaders import PyPDFLoader\n",
    "from langchain.text_splitter import RecursiveCharacterTextSplitter"
   ]
  },
  {
   "cell_type": "code",
   "execution_count": 4,
   "id": "e7622595-a34c-4e15-a4c2-a31e3f7db2e2",
   "metadata": {
    "tags": []
   },
   "outputs": [
    {
     "data": {
      "text/plain": [
       "[]"
      ]
     },
     "execution_count": 4,
     "metadata": {},
     "output_type": "execute_result"
    }
   ],
   "source": [
    "# connect VertexAI API\n",
    "credentials = service_account.Credentials.from_service_account_file('skillful-camp-412507-baa2aef45b7e.json')\n",
    "aiplatform.init(project='skillful-camp-412507', credentials=credentials)\n",
    "\n",
    "#check the connection\n",
    "aiplatform.TabularDataset.list()"
   ]
  },
  {
   "cell_type": "code",
   "execution_count": 6,
   "id": "11a3c609-3eac-41a6-ad0f-fcad61ed6f93",
   "metadata": {
    "tags": []
   },
   "outputs": [
    {
     "name": "stdout",
     "output_type": "stream",
     "text": [
      "Answer:  Artificial Intelligence (AI) is the simulation of human intelligence processes by machines, especially computer systems. AI research has been highly successful in developing effective techniques for solving a wide range of problems, from game playing to medical diagnosis.\n",
      "\n",
      "The final answer is Artificial Intelligence (AI) is the simulation of human intelligence processes by machines, especially computer systems.\n"
     ]
    }
   ],
   "source": [
    "#search the answer use vertexAI and Langchain\n",
    "model = VertexAI(model_name=\"gemini-pro\")\n",
    "from langchain.llms import VertexAI\n",
    "from langchain import PromptTemplate, LLMChain\n",
    "\n",
    "template = \"\"\"Question: {question}\n",
    "\n",
    "Answer: Let's think step by step.\"\"\"\n",
    "\n",
    "prompt = PromptTemplate(template=template, input_variables=[\"question\"])\n",
    "\n",
    "llm = VertexAI()\n",
    "\n",
    "llm_chain = LLMChain(prompt=prompt, llm=llm)\n",
    "llm_chain = LLMChain(prompt=prompt, llm=llm)\n",
    "question = \"What is AI?\"\n",
    "\n",
    "answer = llm_chain.run(question)\n",
    "print(\"Answer:\",answer)"
   ]
  },
  {
   "cell_type": "code",
   "execution_count": 9,
   "id": "e12b7e7e-e0fd-4184-a4f3-3f7bd0d09a4e",
   "metadata": {
    "tags": []
   },
   "outputs": [],
   "source": [
    "# connect google news search api\n",
    "import os\n",
    "import pprint\n",
    "\n",
    "os.environ[\"SERPER_API_KEY\"] = \"02bef7fca972cd19a737c7a1ed80bf0664bdb581\"\n",
    "from langchain_community.utilities import GoogleSerperAPIWrapper"
   ]
  },
  {
   "cell_type": "code",
   "execution_count": 12,
   "id": "4ebdf60f-3154-4b52-b5dc-9cba079573fa",
   "metadata": {
    "tags": []
   },
   "outputs": [
    {
     "name": "stdout",
     "output_type": "stream",
     "text": [
      "{'searchParameters': {'q': 'Apple Inc.',\n",
      "                      'gl': 'us',\n",
      "                      'hl': 'en',\n",
      "                      'num': 10,\n",
      "                      'type': 'news',\n",
      "                      'tbs': 'qdr:h',\n",
      "                      'engine': 'google'},\n",
      " 'news': [{'title': 'The Power of Abstraction: Lessons from Steve Jobs and '\n",
      "                    'Steve Wozniak',\n",
      "           'link': 'https://medium.com/@butkepavan55/the-power-of-abstraction-lessons-from-steve-jobs-and-steve-wozniak-8b53caa577c9',\n",
      "           'snippet': 'While working in first job, my CEO explained me the '\n",
      "                      'idea of Abstraction and how it helps presenting the '\n",
      "                      'idea or a Concept to a end user / learner.',\n",
      "           'date': '50 mins ago',\n",
      "           'source': 'Medium',\n",
      "           'imageUrl': 'https://encrypted-tbn0.gstatic.com/images?q=tbn:ANd9GcTKsmYWKsUZd1fPIy28Wpbef_KGiuzfF1ozh0LHiRaTUs3tn6UxxFoNLv1d6w&s',\n",
      "           'position': 1}]}\n"
     ]
    }
   ],
   "source": [
    "# search news and get results\n",
    "# after get news result I need to summarize the search query results\n",
    "search = GoogleSerperAPIWrapper(type=\"news\", tbs=\"qdr:h\")\n",
    "results = search.results(\"Apple Inc.\")\n",
    "pprint.pp(results)"
   ]
  },
  {
   "cell_type": "code",
   "execution_count": 33,
   "id": "01b25ec5-bdf1-4fd2-8057-35b141b01cae",
   "metadata": {
    "tags": []
   },
   "outputs": [
    {
     "data": {
      "text/plain": [
       "['foo', ' bar', ' b', 'az', 'zy', 'foo']"
      ]
     },
     "execution_count": 33,
     "metadata": {},
     "output_type": "execute_result"
    }
   ],
   "source": [
    "# PDF document loading\n",
    "from langchain.document_loaders import PyPDFLoader\n",
    "# Document Splitting\n",
    "from langchain.text_splitter import RecursiveCharacterTextSplitter, CharacterTextSplitter\n",
    "\n",
    "# Load PDF\n",
    "loader = PyPDFLoader(\"resume_.pdf\")\n",
    "pages = loader.load()\n",
    "all_page_text=[p.page_content for p in pages]\n",
    "joined_page_text=\" \".join(all_page_text)\n",
    "\n",
    "# Split\n",
    "text_splitter = RecursiveCharacterTextSplitter(chunk_size = 1500,chunk_overlap = 150)\n",
    "splits = text_splitter.split_text(joined_page_text)\n",
    "\n",
    "chunk_size=26\n",
    "chunk_overlap=4\n",
    "r_splitter = RecursiveCharacterTextSplitter(\n",
    "    chunk_size=chunk_size,\n",
    "    chunk_overlap=chunk_overlap\n",
    ")\n",
    "c_splitter = CharacterTextSplitter(\n",
    "    chunk_size= chunk_size,\n",
    "    chunk_overlap=chunk_overlap\n",
    ")\n",
    "\n",
    "from langchain.text_splitter import CharacterTextSplitter\n",
    "text_splitter = CharacterTextSplitter(\n",
    "    separator=\"\\n\",\n",
    "    chunk_size=1000,\n",
    "    chunk_overlap=150\n",
    ")\n",
    "\n",
    "# token splitting \n",
    "from langchain.text_splitter import TokenTextSplitter\n",
    "text_splitter = TokenTextSplitter(chunk_size=1, chunk_overlap=0)\n",
    "text1 = \"foo bar bazzyfoo\"\n",
    "\n",
    "# print one small example\n",
    "text_splitter.split_text(text1)"
   ]
  },
  {
   "cell_type": "code",
   "execution_count": 35,
   "id": "07046d9f-a575-4e9a-a218-6357ef036b9b",
   "metadata": {
    "tags": []
   },
   "outputs": [
    {
     "name": "stdout",
     "output_type": "stream",
     "text": [
      "Your embedding is length 768\n",
      "Here's a sample: [-0.02548510953783989, -0.007817179895937443, 0.024772444739937782, 0.007634440436959267, -0.02266054041683674]...\n"
     ]
    }
   ],
   "source": [
    "#embedding\n",
    "from langchain.embeddings import VertexAIEmbeddings\n",
    "from langchain_google_vertexai import VertexAIEmbeddings\n",
    "embedding = VertexAIEmbeddings(model_name=\"textembedding-gecko-multilingual\")\n",
    "text_embedding = embedding.embed_query(text1)\n",
    "\n",
    "# test \n",
    "print(f\"Your embedding is length {len(text_embedding)}\")\n",
    "print(f\"Here's a sample: {text_embedding[:5]}...\")"
   ]
  },
  {
   "cell_type": "code",
   "execution_count": 36,
   "id": "d85843fe-21a9-4681-9a6e-0590f834a46a",
   "metadata": {
    "tags": []
   },
   "outputs": [
    {
     "data": {
      "text/plain": [
       "0.876138861000423"
      ]
     },
     "execution_count": 36,
     "metadata": {},
     "output_type": "execute_result"
    }
   ],
   "source": [
    "# embedding example\n",
    "sentence1 = \"i like dogs\"\n",
    "sentence2 = \"i like canines\"\n",
    "embedding1 = embedding.embed_query(sentence1)\n",
    "embedding2 = embedding.embed_query(sentence2)\n",
    "\n",
    "import numpy as np\n",
    "np.dot(embedding1,embedding2)"
   ]
  },
  {
   "cell_type": "code",
   "execution_count": 37,
   "id": "4b545858-4a38-4212-8f21-71d1bd381197",
   "metadata": {
    "tags": []
   },
   "outputs": [],
   "source": [
    "# Retrieve\n",
    "svm_retriever = SVMRetriever.from_texts(splits,embedding)\n",
    "tfidf_retriever = TFIDFRetriever.from_texts(splits)"
   ]
  },
  {
   "cell_type": "code",
   "execution_count": 40,
   "id": "18132a76-198c-473f-bcf7-cdfb8b86db65",
   "metadata": {
    "tags": []
   },
   "outputs": [
    {
     "name": "stderr",
     "output_type": "stream",
     "text": [
      "/opt/conda/lib/python3.10/site-packages/sklearn/svm/_classes.py:32: FutureWarning: The default value of `dual` will change from `True` to `'auto'` in 1.5. Set the value of `dual` explicitly to suppress the warning.\n",
      "  warnings.warn(\n"
     ]
    },
    {
     "data": {
      "text/plain": [
       "Document(page_content=\"YUNXIN HONG +1 2065655339 | yunxinh@outlook.com | https://github.com/rattlesyylz | Seattle, WA linkedin.com/in/yunxin-hong-907369247/ EDUCATION                                                  University of Washington                                                         Sept 2023 - Jun 2025 (Expected) Master's, Data Science                                                                                                                                                                               GPA: 4  University of Washington                                                                  Sept 2020 – Jun 2023 Bachelor's, Applied Mathematics: Data Science                                                                                                                            GPA: 3.94 Relevant Coursework: Database System, Machine Learning, Deep Learning, Data Structures, Algorithms, and Web Programming  SKILLS                                       _______ __________ • Programming Skills and Tools: Java, Python, MySQL, HTML, CSS, JavaScript, Tableau, Power BI, Azure, GCP, AWS and Git • Methodologies: Statistical Analysis, Predictive Analysis, Data Preparation, Data Visualization, Probability, and Machine Learning   PROFESSIONAL EXPERIENCES                                    Data Scientist Intern                                                                                                                                Shanghai, China NIO | Autonomous Driving Department\")"
      ]
     },
     "execution_count": 40,
     "metadata": {},
     "output_type": "execute_result"
    }
   ],
   "source": [
    "# key words matching\n",
    "# ask question and get answer materials from upload document\n",
    "question = \"Which skills do Yunxin have?\"\n",
    "docs_svm=svm_retriever.get_relevant_documents(question)\n",
    "docs_svm[0]"
   ]
  },
  {
   "cell_type": "code",
   "execution_count": 41,
   "id": "6c8ef1bc-9b5e-43ed-ad87-a056217ff2bf",
   "metadata": {
    "tags": []
   },
   "outputs": [
    {
     "data": {
      "text/plain": [
       "Document(page_content='deep learning models with modifying parameters and steps to calculate CO₂ value, analyzed models’ performance with metrics, where the application will be used in NGO and companies • Analyzed 1000 users’ feedback, visualized the result though dashboard on Tableau, cooperated with UX team to redesign the application, and improved user retention rate by 8%')"
      ]
     },
     "execution_count": 41,
     "metadata": {},
     "output_type": "execute_result"
    }
   ],
   "source": [
    "# key words matching\n",
    "# another example: ask question and get answer materials\n",
    "question = \"what did they say about models?\"\n",
    "docs_tfidf=tfidf_retriever.get_relevant_documents(question)\n",
    "docs_tfidf[0]"
   ]
  },
  {
   "cell_type": "code",
   "execution_count": 45,
   "id": "fd70c41a-40e3-433f-b69b-bed4a19cf015",
   "metadata": {
    "tags": []
   },
   "outputs": [
    {
     "data": {
      "text/plain": [
       "[Document(page_content='A mushroom with a large fruiting body is the Amanita phalloides. Some varieties are all-white.'),\n",
       " Document(page_content='A mushroom with a large fruiting body is the Amanita phalloides. Some varieties are all-white.')]"
      ]
     },
     "execution_count": 45,
     "metadata": {},
     "output_type": "execute_result"
    }
   ],
   "source": [
    "# similarity search\n",
    "# matching key words\n",
    "docs = text_splitter.split_documents(pages)\n",
    "persist_directory = 'docs/chroma/'\n",
    "from langchain.vectorstores import Chroma\n",
    "splits = text_splitter.split_documents(docs)\n",
    "vectordb = Chroma.from_documents(\n",
    "    documents=splits,\n",
    "    embedding=embedding,\n",
    "    persist_directory= persist_directory\n",
    ")\n",
    "\n",
    "texts = [\n",
    "    \"\"\"The Amanita phalloides has a large and imposing epigeous (aboveground) fruiting body (basidiocarp).\"\"\",\n",
    "    \"\"\"A mushroom with a large fruiting body is the Amanita phalloides. Some varieties are all-white.\"\"\",\n",
    "    \"\"\"A. phalloides, a.k.a Death Cap, is one of the most poisonous of all known mushrooms.\"\"\",\n",
    "]\n",
    "\n",
    "smalldb = Chroma.from_texts(texts, embedding=embedding)\n",
    "\n",
    "question = \"Tell me about all-white mushrooms with large fruiting bodies\"\n",
    "smalldb.similarity_search(question, k=2)"
   ]
  },
  {
   "cell_type": "code",
   "execution_count": 49,
   "id": "3695f1fb-8ec7-4ff1-b9e6-48ab5b05c39b",
   "metadata": {
    "tags": []
   },
   "outputs": [
    {
     "data": {
      "text/plain": [
       "' resulting'"
      ]
     },
     "execution_count": 49,
     "metadata": {},
     "output_type": "execute_result"
    }
   ],
   "source": [
    "# indexing doc\n",
    "question = \"what did they say about matlab?\"\n",
    "docs_ss = vectordb.similarity_search(question,k=3)\n",
    "docs_ss[0].page_content[:100]\n",
    "docs_ss[1].page_content[:100]"
   ]
  },
  {
   "cell_type": "code",
   "execution_count": null,
   "id": "2192437d-08e6-4b37-b4ae-688967e5238a",
   "metadata": {
    "tags": []
   },
   "outputs": [],
   "source": []
  },
  {
   "cell_type": "code",
   "execution_count": null,
   "id": "bed0fcfc-3cbd-4b97-89e8-f5cc8bff5ea4",
   "metadata": {},
   "outputs": [],
   "source": []
  }
 ],
 "metadata": {
  "environment": {
   "kernel": "python3",
   "name": "common-cpu.m115",
   "type": "gcloud",
   "uri": "gcr.io/deeplearning-platform-release/base-cpu:m115"
  },
  "kernelspec": {
   "display_name": "Python 3 (Local)",
   "language": "python",
   "name": "python3"
  },
  "language_info": {
   "codemirror_mode": {
    "name": "ipython",
    "version": 3
   },
   "file_extension": ".py",
   "mimetype": "text/x-python",
   "name": "python",
   "nbconvert_exporter": "python",
   "pygments_lexer": "ipython3",
   "version": "3.10.13"
  }
 },
 "nbformat": 4,
 "nbformat_minor": 5
}
