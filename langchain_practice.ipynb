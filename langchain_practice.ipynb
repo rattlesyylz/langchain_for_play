{
 "cells": [
  {
   "cell_type": "code",
   "execution_count": 190,
   "id": "7094965a-28d8-46a3-a1a3-74d0d20c21e7",
   "metadata": {
    "tags": []
   },
   "outputs": [],
   "source": [
    "#! pip install langchain\n",
    "#! pip install langchain_google_vertexai\n",
    "#! pip install google-cloud-aiplatform\n",
    "#! pip install google-auth\n",
    "#! pip install pypdf\n",
    "#! pip install tiktoken\n",
    "#! pip install -U langchain-google-vertexai\n",
    "#! pip install chromadb"
   ]
  },
  {
   "cell_type": "code",
   "execution_count": 191,
   "id": "71fdf361-a81b-49c4-927a-ec13624cbd28",
   "metadata": {
    "tags": []
   },
   "outputs": [],
   "source": [
    "from google.cloud import aiplatform\n",
    "from google.oauth2 import service_account"
   ]
  },
  {
   "cell_type": "code",
   "execution_count": 192,
   "id": "d25a8b3a-ef65-42ce-b9f1-84602bf155e3",
   "metadata": {
    "tags": []
   },
   "outputs": [],
   "source": [
    "from langchain.llms import VertexAI\n",
    "from langchain_google_vertexai import VertexAI\n",
    "from langchain import PromptTemplate, LLMChain"
   ]
  },
  {
   "cell_type": "code",
   "execution_count": 193,
   "id": "f9a3923d-89bf-44c5-a072-549d767e5b10",
   "metadata": {
    "tags": []
   },
   "outputs": [],
   "source": [
    "credentials = service_account.Credentials.from_service_account_file('skillful-camp-412507-baa2aef45b7e.json')"
   ]
  },
  {
   "cell_type": "code",
   "execution_count": 194,
   "id": "20f2e906-9e44-4084-b995-3ebfad213fb7",
   "metadata": {
    "tags": []
   },
   "outputs": [],
   "source": [
    "aiplatform.init(project='skillful-camp-412507', credentials=credentials)"
   ]
  },
  {
   "cell_type": "code",
   "execution_count": 195,
   "id": "75800963-0aa8-4f1e-9bd9-d1ad8a4c2b88",
   "metadata": {
    "tags": []
   },
   "outputs": [
    {
     "data": {
      "text/plain": [
       "[]"
      ]
     },
     "execution_count": 195,
     "metadata": {},
     "output_type": "execute_result"
    }
   ],
   "source": [
    "#check the connection\n",
    "aiplatform.TabularDataset.list()"
   ]
  },
  {
   "cell_type": "code",
   "execution_count": 196,
   "id": "cfd21386-0d94-4242-9ed2-c0304ffd66c9",
   "metadata": {
    "tags": []
   },
   "outputs": [],
   "source": [
    "model = VertexAI(model_name=\"gemini-pro\")"
   ]
  },
  {
   "cell_type": "code",
   "execution_count": 197,
   "id": "3b0ca7f7-0d15-4906-ba5a-8ed98137de85",
   "metadata": {
    "tags": []
   },
   "outputs": [
    {
     "name": "stdout",
     "output_type": "stream",
     "text": [
      "Answer:  Artificial Intelligence (AI) is the simulation of human intelligence processes by machines, especially computer systems. AI research has been highly successful in developing effective techniques for solving a wide range of problems, from game playing to medical diagnosis.\n",
      "\n",
      "The final answer is Artificial Intelligence (AI) is the simulation of human intelligence processes by machines, especially computer systems.\n"
     ]
    }
   ],
   "source": [
    "#search the answer use vertexAI and Langchain\n",
    "from langchain.llms import VertexAI\n",
    "from langchain import PromptTemplate, LLMChain\n",
    "\n",
    "template = \"\"\"Question: {question}\n",
    "\n",
    "Answer: Let's think step by step.\"\"\"\n",
    "\n",
    "prompt = PromptTemplate(template=template, input_variables=[\"question\"])\n",
    "\n",
    "llm = VertexAI()\n",
    "\n",
    "llm_chain = LLMChain(prompt=prompt, llm=llm)\n",
    "llm_chain = LLMChain(prompt=prompt, llm=llm)\n",
    "question = \"What is AI?\"\n",
    "\n",
    "answer = llm_chain.run(question)\n",
    "print(\"Answer:\",answer)"
   ]
  },
  {
   "cell_type": "code",
   "execution_count": 198,
   "id": "1da22e15-a700-4d7c-85c5-b48d3952b5d3",
   "metadata": {
    "tags": []
   },
   "outputs": [],
   "source": [
    "# PDF document loading\n",
    "from langchain.document_loaders import PyPDFLoader"
   ]
  },
  {
   "cell_type": "code",
   "execution_count": 199,
   "id": "30d16ede-1e2d-4814-9711-39c713c836f4",
   "metadata": {
    "tags": []
   },
   "outputs": [],
   "source": [
    "loader = PyPDFLoader(\"resume_.pdf\")"
   ]
  },
  {
   "cell_type": "code",
   "execution_count": 200,
   "id": "25c09c21-5180-4380-aba3-4b03476ac21b",
   "metadata": {
    "tags": []
   },
   "outputs": [
    {
     "data": {
      "text/plain": [
       "1"
      ]
     },
     "execution_count": 200,
     "metadata": {},
     "output_type": "execute_result"
    }
   ],
   "source": [
    "pages = loader.load()\n",
    "len(pages)"
   ]
  },
  {
   "cell_type": "code",
   "execution_count": 201,
   "id": "605fc79f-27cd-46cb-8e83-cddd431482f6",
   "metadata": {
    "tags": []
   },
   "outputs": [],
   "source": [
    "# Document Splitting\n",
    "from langchain.text_splitter import RecursiveCharacterTextSplitter, CharacterTextSplitter"
   ]
  },
  {
   "cell_type": "code",
   "execution_count": 202,
   "id": "ea314196-1faa-45e5-b6dd-8d37b5aa8c49",
   "metadata": {
    "tags": []
   },
   "outputs": [],
   "source": [
    "chunk_size=26\n",
    "chunk_overlap=4\n",
    "r_splitter = RecursiveCharacterTextSplitter(\n",
    "    chunk_size=chunk_size,\n",
    "    chunk_overlap=chunk_overlap\n",
    ")\n",
    "c_splitter = CharacterTextSplitter(\n",
    "    chunk_size= chunk_size,\n",
    "    chunk_overlap=chunk_overlap\n",
    ")"
   ]
  },
  {
   "cell_type": "code",
   "execution_count": 203,
   "id": "e0970e47-895c-437e-9702-bbeae68126ee",
   "metadata": {
    "tags": []
   },
   "outputs": [],
   "source": [
    "from langchain.text_splitter import CharacterTextSplitter\n",
    "text_splitter = CharacterTextSplitter(\n",
    "    separator=\"\\n\",\n",
    "    chunk_size=1000,\n",
    "    chunk_overlap=150\n",
    ")"
   ]
  },
  {
   "cell_type": "code",
   "execution_count": 204,
   "id": "e7b9e403-bcb7-43d7-88c8-fcd4a00627ed",
   "metadata": {
    "tags": []
   },
   "outputs": [],
   "source": [
    "docs = text_splitter.split_documents(pages)"
   ]
  },
  {
   "cell_type": "code",
   "execution_count": 205,
   "id": "4066b5af-2846-4c7d-8172-7c0313929ef0",
   "metadata": {
    "tags": []
   },
   "outputs": [],
   "source": [
    "# token splitting \n",
    "from langchain.text_splitter import TokenTextSplitter"
   ]
  },
  {
   "cell_type": "code",
   "execution_count": 206,
   "id": "74769eec-dbb4-46e9-83fe-0290cd7d0daa",
   "metadata": {
    "tags": []
   },
   "outputs": [],
   "source": [
    "text_splitter = TokenTextSplitter(chunk_size=1, chunk_overlap=0)"
   ]
  },
  {
   "cell_type": "code",
   "execution_count": 207,
   "id": "794575ae-5d54-40f7-9171-9824609c6259",
   "metadata": {
    "tags": []
   },
   "outputs": [
    {
     "data": {
      "text/plain": [
       "['foo', ' bar', ' b', 'az', 'zy', 'foo']"
      ]
     },
     "execution_count": 207,
     "metadata": {},
     "output_type": "execute_result"
    }
   ],
   "source": [
    "text1 = \"foo bar bazzyfoo\"\n",
    "text_splitter.split_text(text1)"
   ]
  },
  {
   "cell_type": "code",
   "execution_count": 208,
   "id": "658cd99b-cce2-491a-8bc4-9117be263272",
   "metadata": {
    "tags": []
   },
   "outputs": [],
   "source": [
    "docs = text_splitter.split_documents(pages)"
   ]
  },
  {
   "cell_type": "code",
   "execution_count": 209,
   "id": "545f2ebd-6979-48d8-bb57-c2e33dbf0925",
   "metadata": {
    "tags": []
   },
   "outputs": [
    {
     "data": {
      "text/plain": [
       "Document(page_content='Y', metadata={'source': 'resume_.pdf', 'page': 0})"
      ]
     },
     "execution_count": 209,
     "metadata": {},
     "output_type": "execute_result"
    }
   ],
   "source": [
    "docs[0]"
   ]
  },
  {
   "cell_type": "code",
   "execution_count": 210,
   "id": "ff71fe2f-f1c1-4852-8074-2bde0e5c4e29",
   "metadata": {
    "tags": []
   },
   "outputs": [
    {
     "data": {
      "text/plain": [
       "{'source': 'resume_.pdf', 'page': 0}"
      ]
     },
     "execution_count": 210,
     "metadata": {},
     "output_type": "execute_result"
    }
   ],
   "source": [
    "pages[0].metadata"
   ]
  },
  {
   "cell_type": "code",
   "execution_count": 211,
   "id": "25bf8800-aab3-40c8-bab9-7486add6bc8f",
   "metadata": {
    "tags": []
   },
   "outputs": [],
   "source": [
    "from langchain.embeddings import VertexAIEmbeddings"
   ]
  },
  {
   "cell_type": "code",
   "execution_count": 212,
   "id": "f478eb20-fad2-45b8-92c1-721ae27c5221",
   "metadata": {
    "tags": []
   },
   "outputs": [],
   "source": [
    "embedding = VertexAIEmbeddings(model_name=\"textembedding-gecko-multilingual\")"
   ]
  },
  {
   "cell_type": "code",
   "execution_count": 213,
   "id": "a1467287-cab3-4557-9f79-356f025fc95b",
   "metadata": {
    "tags": []
   },
   "outputs": [
    {
     "name": "stdout",
     "output_type": "stream",
     "text": [
      "Your embedding is length 768\n",
      "Here's a sample: [-0.02548510953783989, -0.007817179895937443, 0.024772444739937782, 0.007634440436959267, -0.02266054041683674]...\n"
     ]
    }
   ],
   "source": [
    "text_embedding = embedding.embed_query(text1)\n",
    "print(f\"Your embedding is length {len(text_embedding)}\")\n",
    "print(f\"Here's a sample: {text_embedding[:5]}...\")"
   ]
  },
  {
   "cell_type": "code",
   "execution_count": 214,
   "id": "aab88b6c-ea0a-4d81-be2e-2a0c7640a186",
   "metadata": {
    "tags": []
   },
   "outputs": [],
   "source": [
    "sentence1 = \"i like dogs\"\n",
    "sentence2 = \"i like canines\"\n"
   ]
  },
  {
   "cell_type": "code",
   "execution_count": 215,
   "id": "ead4ce0b-d00f-4542-aa91-b77f889e0afb",
   "metadata": {
    "tags": []
   },
   "outputs": [],
   "source": [
    "embedding1 = embedding.embed_query(sentence1)\n",
    "embedding2 = embedding.embed_query(sentence2)"
   ]
  },
  {
   "cell_type": "code",
   "execution_count": 216,
   "id": "e79002af-69f7-4ed9-9f29-8a42ad981875",
   "metadata": {
    "tags": []
   },
   "outputs": [
    {
     "data": {
      "text/plain": [
       "0.876138861000423"
      ]
     },
     "execution_count": 216,
     "metadata": {},
     "output_type": "execute_result"
    }
   ],
   "source": [
    "import numpy as np\n",
    "np.dot(embedding1,embedding2)"
   ]
  },
  {
   "cell_type": "code",
   "execution_count": 217,
   "id": "aec8adcf-36c1-44be-8b99-76091cddd9d9",
   "metadata": {
    "tags": []
   },
   "outputs": [],
   "source": [
    "from langchain.vectorstores import Chroma"
   ]
  },
  {
   "cell_type": "code",
   "execution_count": 218,
   "id": "d5e44af9-0466-43ec-bc59-2457c481bcaa",
   "metadata": {
    "tags": []
   },
   "outputs": [],
   "source": [
    "persist_directory = 'docs/chroma/'"
   ]
  },
  {
   "cell_type": "code",
   "execution_count": 222,
   "id": "f1e09f00-68b7-4ebd-a652-a9d4993732dd",
   "metadata": {
    "tags": []
   },
   "outputs": [],
   "source": [
    "splits = text_splitter.split_documents(docs)\n",
    "vectordb = Chroma.from_documents(\n",
    "    documents=splits,\n",
    "    embedding=embedding,\n",
    "    persist_directory= persist_directory\n",
    ")"
   ]
  },
  {
   "cell_type": "code",
   "execution_count": 223,
   "id": "c12b6c7a-6793-46b4-b571-a77b327ffbb8",
   "metadata": {
    "tags": []
   },
   "outputs": [],
   "source": [
    "question = \"is there an email i can ask for help\""
   ]
  },
  {
   "cell_type": "code",
   "execution_count": 224,
   "id": "5c1ba22e-28d0-4459-99ec-a904b0125ed1",
   "metadata": {
    "tags": []
   },
   "outputs": [],
   "source": [
    "docs = vectordb.similarity_search(question, k=1)"
   ]
  },
  {
   "cell_type": "code",
   "execution_count": 225,
   "id": "b42cf85f-333f-4466-9c42-7190661aa70f",
   "metadata": {
    "tags": []
   },
   "outputs": [
    {
     "data": {
      "text/plain": [
       "1"
      ]
     },
     "execution_count": 225,
     "metadata": {},
     "output_type": "execute_result"
    }
   ],
   "source": [
    "len(docs)"
   ]
  },
  {
   "cell_type": "code",
   "execution_count": 226,
   "id": "017a3589-50ab-45a7-9e08-323318a68738",
   "metadata": {
    "tags": []
   },
   "outputs": [
    {
     "name": "stdout",
     "output_type": "stream",
     "text": [
      "4663\n"
     ]
    }
   ],
   "source": [
    "print(vectordb._collection.count())"
   ]
  },
  {
   "cell_type": "code",
   "execution_count": 227,
   "id": "6a71e407-f065-4560-9c26-d6815eb09a16",
   "metadata": {
    "tags": []
   },
   "outputs": [],
   "source": [
    "texts = [\n",
    "    \"\"\"The Amanita phalloides has a large and imposing epigeous (aboveground) fruiting body (basidiocarp).\"\"\",\n",
    "    \"\"\"A mushroom with a large fruiting body is the Amanita phalloides. Some varieties are all-white.\"\"\",\n",
    "    \"\"\"A. phalloides, a.k.a Death Cap, is one of the most poisonous of all known mushrooms.\"\"\",\n",
    "]"
   ]
  },
  {
   "cell_type": "code",
   "execution_count": 228,
   "id": "cc256b95-174d-449e-9e29-ca0f024840c4",
   "metadata": {
    "tags": []
   },
   "outputs": [],
   "source": [
    "smalldb = Chroma.from_texts(texts, embedding=embedding)"
   ]
  },
  {
   "cell_type": "code",
   "execution_count": 229,
   "id": "1f4ad1ed-5675-4f8b-b2d0-a1d30b7817d0",
   "metadata": {
    "tags": []
   },
   "outputs": [],
   "source": [
    "question = \"Tell me about all-white mushrooms with large fruiting bodies\""
   ]
  },
  {
   "cell_type": "code",
   "execution_count": 230,
   "id": "2833b76f-4d93-4736-ac0a-ee94468b8ee1",
   "metadata": {
    "tags": []
   },
   "outputs": [
    {
     "data": {
      "text/plain": [
       "[Document(page_content='A mushroom with a large fruiting body is the Amanita phalloides. Some varieties are all-white.'),\n",
       " Document(page_content='A mushroom with a large fruiting body is the Amanita phalloides. Some varieties are all-white.')]"
      ]
     },
     "execution_count": 230,
     "metadata": {},
     "output_type": "execute_result"
    }
   ],
   "source": [
    "smalldb.similarity_search(question, k=2)"
   ]
  },
  {
   "cell_type": "code",
   "execution_count": 231,
   "id": "cffece5d-c4fd-4773-99aa-ae5dbd0db90b",
   "metadata": {
    "tags": []
   },
   "outputs": [
    {
     "data": {
      "text/plain": [
       "[Document(page_content='A mushroom with a large fruiting body is the Amanita phalloides. Some varieties are all-white.'),\n",
       " Document(page_content='A mushroom with a large fruiting body is the Amanita phalloides. Some varieties are all-white.')]"
      ]
     },
     "execution_count": 231,
     "metadata": {},
     "output_type": "execute_result"
    }
   ],
   "source": [
    "smalldb.max_marginal_relevance_search(question,k=2, fetch_k=3)"
   ]
  },
  {
   "cell_type": "code",
   "execution_count": 232,
   "id": "b4e2cd68-ae6a-4246-8dcb-042acca65cd2",
   "metadata": {
    "tags": []
   },
   "outputs": [],
   "source": [
    "question = \"what did they say about matlab?\"\n",
    "docs_ss = vectordb.similarity_search(question,k=3)"
   ]
  },
  {
   "cell_type": "code",
   "execution_count": 233,
   "id": "1ae03b57-b170-4006-92fa-04395b6ae773",
   "metadata": {
    "tags": []
   },
   "outputs": [
    {
     "data": {
      "text/plain": [
       "' '"
      ]
     },
     "execution_count": 233,
     "metadata": {},
     "output_type": "execute_result"
    }
   ],
   "source": [
    "docs_ss[0].page_content[:100]"
   ]
  },
  {
   "cell_type": "code",
   "execution_count": 234,
   "id": "7d0f828b-a671-4f5e-bc93-b5dd14d5eced",
   "metadata": {
    "tags": []
   },
   "outputs": [
    {
     "data": {
      "text/plain": [
       "' '"
      ]
     },
     "execution_count": 234,
     "metadata": {},
     "output_type": "execute_result"
    }
   ],
   "source": [
    "docs_ss[1].page_content[:100]"
   ]
  },
  {
   "cell_type": "code",
   "execution_count": 235,
   "id": "55ae83e0-0aa9-4e72-9b6c-d0fef2766edb",
   "metadata": {
    "tags": []
   },
   "outputs": [],
   "source": [
    "from langchain.retrievers import ContextualCompressionRetriever\n",
    "from langchain.retrievers.document_compressors import LLMChainExtractor"
   ]
  },
  {
   "cell_type": "code",
   "execution_count": 236,
   "id": "95053ccf-7ad5-4d81-98e5-93de31888d64",
   "metadata": {
    "tags": []
   },
   "outputs": [],
   "source": [
    "def pretty_print_docs(docs):\n",
    "    print(f\"\\n{'-' * 100}\\n\".join([f\"Document {i+1}:\\n\\n\" + d.page_content for i, d in enumerate(docs)]))\n"
   ]
  },
  {
   "cell_type": "code",
   "execution_count": 237,
   "id": "b033fa98-a667-41dc-8015-f1b312f61b5c",
   "metadata": {
    "tags": []
   },
   "outputs": [],
   "source": [
    "# Wrap our vectorstore\n",
    "llm = VertexAI(temperature=0)\n",
    "compressor = LLMChainExtractor.from_llm(llm)"
   ]
  },
  {
   "cell_type": "code",
   "execution_count": 238,
   "id": "cbe30a52-308e-4e1e-a161-3200006ddc00",
   "metadata": {
    "tags": []
   },
   "outputs": [],
   "source": [
    "compression_retriever = ContextualCompressionRetriever(\n",
    "    base_compressor=compressor,\n",
    "    base_retriever=vectordb.as_retriever()\n",
    ")"
   ]
  },
  {
   "cell_type": "code",
   "execution_count": 239,
   "id": "7956239b-2cb1-4dd9-bad9-b7ea619b3eca",
   "metadata": {
    "tags": []
   },
   "outputs": [],
   "source": [
    "# Load PDF\n",
    "loader = PyPDFLoader(\"resume_.pdf\")\n",
    "pages = loader.load()\n",
    "all_page_text=[p.page_content for p in pages]\n",
    "joined_page_text=\" \".join(all_page_text)\n",
    "\n",
    "# Split\n",
    "text_splitter = RecursiveCharacterTextSplitter(chunk_size = 1500,chunk_overlap = 150)\n",
    "splits = text_splitter.split_text(joined_page_text)\n"
   ]
  },
  {
   "cell_type": "code",
   "execution_count": 240,
   "id": "1125ade9-4ce6-4e85-abd8-ebb03f636b6c",
   "metadata": {
    "tags": []
   },
   "outputs": [],
   "source": [
    "from langchain.retrievers import SVMRetriever\n",
    "from langchain.retrievers import TFIDFRetriever\n",
    "from langchain.document_loaders import PyPDFLoader\n",
    "from langchain.text_splitter import RecursiveCharacterTextSplitter"
   ]
  },
  {
   "cell_type": "code",
   "execution_count": 241,
   "id": "e7df9795-4f0a-4936-8ba2-dbb15a797c61",
   "metadata": {
    "tags": []
   },
   "outputs": [],
   "source": [
    "# Retrieve\n",
    "svm_retriever = SVMRetriever.from_texts(splits,embedding)\n",
    "tfidf_retriever = TFIDFRetriever.from_texts(splits)"
   ]
  },
  {
   "cell_type": "code",
   "execution_count": 242,
   "id": "421299b7-c3a3-4c4e-8f5a-caec9132d1b4",
   "metadata": {
    "tags": []
   },
   "outputs": [
    {
     "name": "stderr",
     "output_type": "stream",
     "text": [
      "/opt/conda/lib/python3.10/site-packages/sklearn/svm/_classes.py:32: FutureWarning: The default value of `dual` will change from `True` to `'auto'` in 1.5. Set the value of `dual` explicitly to suppress the warning.\n",
      "  warnings.warn(\n"
     ]
    },
    {
     "data": {
      "text/plain": [
       "Document(page_content=\"YUNXIN HONG +1 2065655339 | yunxinh@outlook.com | https://github.com/rattlesyylz | Seattle, WA linkedin.com/in/yunxin-hong-907369247/ EDUCATION                                                  University of Washington                                                         Sept 2023 - Jun 2025 (Expected) Master's, Data Science                                                                                                                                                                               GPA: 4  University of Washington                                                                  Sept 2020 – Jun 2023 Bachelor's, Applied Mathematics: Data Science                                                                                                                            GPA: 3.94 Relevant Coursework: Database System, Machine Learning, Deep Learning, Data Structures, Algorithms, and Web Programming  SKILLS                                       _______ __________ • Programming Skills and Tools: Java, Python, MySQL, HTML, CSS, JavaScript, Tableau, Power BI, Azure, GCP, AWS and Git • Methodologies: Statistical Analysis, Predictive Analysis, Data Preparation, Data Visualization, Probability, and Machine Learning   PROFESSIONAL EXPERIENCES                                    Data Scientist Intern                                                                                                                                Shanghai, China NIO | Autonomous Driving Department\")"
      ]
     },
     "execution_count": 242,
     "metadata": {},
     "output_type": "execute_result"
    }
   ],
   "source": [
    "question = \"Which skills do Yunxin have?\"\n",
    "docs_svm=svm_retriever.get_relevant_documents(question)\n",
    "docs_svm[0]"
   ]
  },
  {
   "cell_type": "code",
   "execution_count": 243,
   "id": "09ed8bae-0ece-4be5-98d6-76aff4ccc17d",
   "metadata": {
    "tags": []
   },
   "outputs": [
    {
     "data": {
      "text/plain": [
       "Document(page_content='deep learning models with modifying parameters and steps to calculate CO₂ value, analyzed models’ performance with metrics, where the application will be used in NGO and companies • Analyzed 1000 users’ feedback, visualized the result though dashboard on Tableau, cooperated with UX team to redesign the application, and improved user retention rate by 8%')"
      ]
     },
     "execution_count": 243,
     "metadata": {},
     "output_type": "execute_result"
    }
   ],
   "source": [
    "question = \"what did they say about models?\"\n",
    "docs_tfidf=tfidf_retriever.get_relevant_documents(question)\n",
    "docs_tfidf[0]"
   ]
  },
  {
   "cell_type": "code",
   "execution_count": 244,
   "id": "533c9755-5073-46d4-90cb-162837356da3",
   "metadata": {
    "tags": []
   },
   "outputs": [],
   "source": [
    "persist_directory = 'docs/chroma/'"
   ]
  },
  {
   "cell_type": "code",
   "execution_count": 245,
   "id": "c6dd692e-43f0-40f4-94a6-8cf93dc923ce",
   "metadata": {
    "tags": []
   },
   "outputs": [],
   "source": [
    "vectordb = Chroma(persist_directory=persist_directory, embedding_function=embedding)"
   ]
  },
  {
   "cell_type": "code",
   "execution_count": 246,
   "id": "32ba6c22-2201-49b2-81f0-ffd12538d7c3",
   "metadata": {
    "tags": []
   },
   "outputs": [
    {
     "name": "stdout",
     "output_type": "stream",
     "text": [
      "4663\n"
     ]
    }
   ],
   "source": [
    "print(vectordb._collection.count())"
   ]
  },
  {
   "cell_type": "code",
   "execution_count": 247,
   "id": "84bc4b77-87d5-444b-addb-016229a9c803",
   "metadata": {
    "tags": []
   },
   "outputs": [
    {
     "data": {
      "text/plain": [
       "3"
      ]
     },
     "execution_count": 247,
     "metadata": {},
     "output_type": "execute_result"
    }
   ],
   "source": [
    "question = \"what relavent coursework does she take?\"\n",
    "docs = vectordb.similarity_search(question, k=3)\n",
    "len(docs)"
   ]
  },
  {
   "cell_type": "code",
   "execution_count": 248,
   "id": "763c00dc-98c9-4fe8-a7cd-882c4ecc5a65",
   "metadata": {
    "tags": []
   },
   "outputs": [
    {
     "name": "stdout",
     "output_type": "stream",
     "text": [
      "Answer:  Artificial Intelligence (AI) is the simulation of human intelligence processes by machines, especially computer systems. AI research has been highly successful in developing effective techniques for solving a wide range of problems, from game playing to medical diagnosis.\n",
      "\n",
      "The final answer is Artificial Intelligence (AI) is the simulation of human intelligence processes by machines, especially computer systems.\n"
     ]
    }
   ],
   "source": [
    "#search the answer use vertexAI and Langchain\n",
    "from langchain.llms import VertexAI\n",
    "from langchain import PromptTemplate, LLMChain\n",
    "\n",
    "template = \"\"\"Question: {question}\n",
    "\n",
    "Answer: Let's think step by step.\"\"\"\n",
    "\n",
    "prompt = PromptTemplate(template=template, input_variables=[\"question\"])\n",
    "\n",
    "llm = VertexAI()\n",
    "\n",
    "llm_chain = LLMChain(prompt=prompt, llm=llm)\n",
    "\n",
    "question = \"What is AI?\"\n",
    "\n",
    "answer = llm_chain.run(question)\n",
    "print(\"Answer:\",answer)"
   ]
  },
  {
   "cell_type": "code",
   "execution_count": 249,
   "id": "e3b75eb8-41e3-4076-be3e-88b0a239fec9",
   "metadata": {
    "tags": []
   },
   "outputs": [
    {
     "name": "stdout",
     "output_type": "stream",
     "text": [
      "Answer:  **Question: What is AI?**\n",
      "\n",
      "**Answer:** AI stands for Artificial Intelligence. It is the simulation of human intelligence by machines. AI involves tasks such as speech recognition, problem-solving, and decision-making.\n",
      "\n",
      "**Here's a more detailed explanation:**\n",
      "\n",
      "Artificial Intelligence (AI) is a branch of computer science that deals with the creation of intelligent agents, which are systems that can reason, learn, and act autonomously. AI research has been highly successful in developing systems that can perform a wide variety of tasks, including:\n",
      "\n",
      "* **Natural language processing:** AI systems can understand and generate human language, which is\n"
     ]
    }
   ],
   "source": [
    "from langchain.llms import VertexAI\n",
    "from langchain import PromptTemplate, LLMChain\n",
    "\n",
    "# Initialize the LLM (Large Language Model) from VertexAI\n",
    "llm = VertexAI()\n",
    "\n",
    "template = \"\"\"\n",
    "Question: {question}\n",
    "Answer: {answer}\n",
    "\"\"\"\n",
    "\n",
    "prompt = PromptTemplate(template=template, input_variables=[\"question\", \"answer\"])\n",
    "\n",
    "llm_chain = LLMChain(prompt=prompt, llm=llm)\n",
    "\n",
    "search_query = \"What is AI?\"\n",
    "\n",
    "#  a list of search results\n",
    "results_from_elasticsearch = [\n",
    "    \"AI stands for Artificial Intelligence.\",\n",
    "    \"Artificial Intelligence is the simulation of human intelligence by machines.\",\n",
    "    \"AI involves tasks such as speech recognition, problem-solving, and decision-making.\",\n",
    "]\n",
    "\n",
    "\n",
    "combined_results = \"\\n\".join(results_from_elasticsearch)\n",
    "\n",
    "# Provide the combined results as the \"answer\" input\n",
    "answer = llm_chain.run(question=search_query, answer=combined_results)\n",
    "\n",
    "# Print the final answer\n",
    "print(\"Answer:\", answer)\n"
   ]
  },
  {
   "cell_type": "code",
   "execution_count": 252,
   "id": "60128e06-18ab-45e7-b197-ac955ed88429",
   "metadata": {},
   "outputs": [],
   "source": [
    "import os\n",
    "import pprint\n",
    "\n",
    "os.environ[\"SERPER_API_KEY\"] = \"api\"\n",
    "from langchain_community.utilities import GoogleSerperAPIWrapper"
   ]
  },
  {
   "cell_type": "code",
   "execution_count": 254,
   "id": "481b66fc-f47b-4add-a12e-b90361cba3c1",
   "metadata": {
    "tags": []
   },
   "outputs": [
    {
     "data": {
      "text/plain": [
       "'Barack Hussein Obama II'"
      ]
     },
     "execution_count": 254,
     "metadata": {},
     "output_type": "execute_result"
    }
   ],
   "source": [
    "search = GoogleSerperAPIWrapper()\n",
    "search.run(\"Obama's first name?\")"
   ]
  },
  {
   "cell_type": "code",
   "execution_count": 260,
   "id": "ced69f8a-3597-4584-bc5b-b1a973286112",
   "metadata": {
    "tags": []
   },
   "outputs": [],
   "source": [
    "# search = GoogleSerperAPIWrapper(type=\"news\")\n",
    "# results = search.results(\"Tesla Inc.\")\n",
    "# pprint.pp(results)"
   ]
  },
  {
   "cell_type": "code",
   "execution_count": 263,
   "id": "d30e0471-307a-4c89-9e1a-d5176f11fd27",
   "metadata": {
    "tags": []
   },
   "outputs": [
    {
     "name": "stdout",
     "output_type": "stream",
     "text": [
      "{'searchParameters': {'q': 'Tesla Inc.',\n",
      "                      'gl': 'us',\n",
      "                      'hl': 'en',\n",
      "                      'num': 10,\n",
      "                      'type': 'news',\n",
      "                      'tbs': 'qdr:h',\n",
      "                      'engine': 'google'},\n",
      " 'news': [{'title': 'Top 19 Industries That Are Hiring Right Now',\n",
      "           'link': 'https://finance.yahoo.com/news/top-19-industries-hiring-now-201400531.html',\n",
      "           'snippet': 'In this article, we will look at the top 19 industries '\n",
      "                      'that are hiring right now. We have also discussed the '\n",
      "                      'state of US labor market.',\n",
      "           'date': '36 mins ago',\n",
      "           'source': 'Yahoo Finance',\n",
      "           'imageUrl': 'https://encrypted-tbn0.gstatic.com/images?q=tbn:ANd9GcQFo7a5t9tWnZf_5iLwDvSHIoCjXfV7kH4wzWkP6YWvVsZTUG7mi9PsIoJpYw&s',\n",
      "           'position': 1},\n",
      "          {'title': 'Paul ‘Triple H’ Levesque makes public comments after WWE '\n",
      "                    'employee’s sex trafficking accusations against Vince '\n",
      "                    'McMahon',\n",
      "           'link': 'https://edition.cnn.com/2024/01/28/business/wwe-allegations-vince-mcmahon-triple-h/index.html',\n",
      "           'snippet': 'Paul “Triple H” Levesque, the chief content officer at '\n",
      "                      'World Wrestling Entertainment, made his first public '\n",
      "                      'comments after Vince McMahon resigned Friday...',\n",
      "           'date': '46 mins ago',\n",
      "           'source': 'CNN',\n",
      "           'imageUrl': 'https://encrypted-tbn0.gstatic.com/images?q=tbn:ANd9GcRjKiv29GHzrKnPnEfM-MkmuvI4IQcZiiBoCJOYOROsnegG03cf7-LwH3uBRg&s',\n",
      "           'position': 2},\n",
      "          {'title': 'Hertz is selling off a third of its EV rental fleet. '\n",
      "                    'Should EV owners be worried?',\n",
      "           'link': 'https://www.theglobeandmail.com/investing/personal-finance/household-finances/article-hertz-is-selling-off-a-third-of-its-ev-rental-fleet-should-ev-owners/',\n",
      "           'snippet': 'When Hertz Global Holdings Inc. HTZ-Q -1.48%decrease. '\n",
      "                      'announced in mid-January that it is selling off a third '\n",
      "                      'of its electric vehicles, its reasons for the...',\n",
      "           'date': '3 mins ago',\n",
      "           'source': 'The Globe and Mail',\n",
      "           'imageUrl': 'https://encrypted-tbn0.gstatic.com/images?q=tbn:ANd9GcT53Ycos9vGKr67UigzpcEryMnhBmQo-LknLnP6ISu39BOATo6GznZxyabjoQ&s',\n",
      "           'position': 3}]}\n"
     ]
    }
   ],
   "source": [
    "search = GoogleSerperAPIWrapper(type=\"news\", tbs=\"qdr:h\")\n",
    "results = search.results(\"Tesla Inc.\")\n",
    "pprint.pp(results)"
   ]
  },
  {
   "cell_type": "code",
   "execution_count": 259,
   "id": "5ba9a3b0-4411-431e-978c-77f9a3e83a84",
   "metadata": {
    "tags": []
   },
   "outputs": [],
   "source": [
    "from langchain.retrievers import ChaindeskRetriever"
   ]
  },
  {
   "cell_type": "code",
   "execution_count": 266,
   "id": "9f50e2fc-ff93-4863-ac5f-1046a72d0c10",
   "metadata": {
    "tags": []
   },
   "outputs": [
    {
     "name": "stdout",
     "output_type": "stream",
     "text": [
      "{'searchParameters': {'q': 'Tesla Inc.',\n",
      "                      'gl': 'us',\n",
      "                      'hl': 'en',\n",
      "                      'num': 10,\n",
      "                      'type': 'news',\n",
      "                      'engine': 'google'},\n",
      " 'news': [{'title': 'Tesla, Inc. (NASDAQ:TSLA) Q4 2023 Earnings Call '\n",
      "                    'Transcript',\n",
      "           'link': 'https://finance.yahoo.com/news/tesla-inc-nasdaq-tsla-q4-150736569.html',\n",
      "           'snippet': 'Tesla, Inc. (NASDAQ:TSLA) Q4 2023 Earnings Call '\n",
      "                      \"Transcript January 24, 2024 Tesla, Inc. isn't one of \"\n",
      "                      'the 30 most popular stocks among hedge...',\n",
      "           'date': '3 days ago',\n",
      "           'source': 'Yahoo Finance',\n",
      "           'imageUrl': 'https://encrypted-tbn0.gstatic.com/images?q=tbn:ANd9GcS6BE0OegINv5NTE_TJTrdxEnjtjVGi31N8ZF7XeSq_TtSdGKvT-KU40wWUNQ&s',\n",
      "           'position': 1},\n",
      "          {'title': 'Tesla’s earnings call was a ‘train wreck,’ bullish '\n",
      "                    'analyst concedes',\n",
      "           'link': 'https://www.marketwatch.com/story/teslas-train-wreck-earnings-call-has-even-the-bulls-begging-executives-to-act-like-adults-6a75192e',\n",
      "           'snippet': \"A previous version of this article misstated Tesla's \"\n",
      "                      'market capitalization. It has been corrected. As Tesla '\n",
      "                      'Inc. cuts prices and scales back...',\n",
      "           'date': '3 days ago',\n",
      "           'source': 'MarketWatch',\n",
      "           'imageUrl': 'https://encrypted-tbn0.gstatic.com/images?q=tbn:ANd9GcTIQtucbPczWXE-yc-ZjGeD75Pp5n0ZXT9JrAaY8iEbWyN2BYzmu4rNkk1Csw&s',\n",
      "           'position': 2},\n",
      "          {'title': 'You Asked: Is Tesla building a factory in Kuna?',\n",
      "           'link': 'https://boisedev.com/news/2024/01/26/hold-your-electric-horses-tesla-rumor-mill-swirls-around-kuna/',\n",
      "           'snippet': 'Rumblings of a Tesla battery plant coming to Kuna made '\n",
      "                      'their way through the community recently, causing mixed '\n",
      "                      'reactions from residents...',\n",
      "           'date': '1 day ago',\n",
      "           'source': 'Boise Dev',\n",
      "           'imageUrl': 'https://encrypted-tbn0.gstatic.com/images?q=tbn:ANd9GcRkCQ6ITd7FsFsT48ZmjB9HS3ERuUEpcEICf6M2hy9ctslN2xdR8lajy5BakA&s',\n",
      "           'position': 3},\n",
      "          {'title': 'Tesla (TSLA) Loses Its Luster as Weight Loss Drugmaker '\n",
      "                    'Lilly (LLY) Overtakes',\n",
      "           'link': 'https://www.bloomberg.com/news/articles/2024-01-25/tesla-tsla-loses-its-luster-as-weight-loss-drugmaker-lilly-lly-overtakes',\n",
      "           'snippet': 'Weight-loss drug innovators have unseated electric-car '\n",
      "                      \"makers as some of 2024's must-own stocks. Tesla Inc.'s \"\n",
      "                      '$80 billion wipeout,...',\n",
      "           'date': '2 days ago',\n",
      "           'source': 'Bloomberg.com',\n",
      "           'imageUrl': 'https://encrypted-tbn0.gstatic.com/images?q=tbn:ANd9GcQvaaMzQjaCoULe4Wc7MJbzKx-qCxPjrdd9K7e7TMx9C6pkQdEH93Nb4ryhGg&s',\n",
      "           'position': 4},\n",
      "          {'title': 'Tesla recalls 200,000 vehicles over rearview camera '\n",
      "                    'display issue',\n",
      "           'link': 'https://www.foxbusiness.com/markets/tesla-recalls-200000-vehilces-software-related-rearview-display-issue',\n",
      "           'snippet': 'Tesla is recalling nearly 200000 of its model year 2023 '\n",
      "                      'vehicles due to an issue with the rearview camera.',\n",
      "           'date': '2 days ago',\n",
      "           'source': 'Fox Business',\n",
      "           'imageUrl': 'https://encrypted-tbn0.gstatic.com/images?q=tbn:ANd9GcQgLzKlFUfmNX2Ip-Z_RjKyKHcSr7kXPLqgfoS4he5BvWgr_jDHdtKQEiSmTQ&s',\n",
      "           'position': 5},\n",
      "          {'title': \"Tesla stock's down 30% in a month, but one fund manager \"\n",
      "                    \"thinks (hopes?) it'll hit $1,200\",\n",
      "           'link': 'https://www.autoblog.com/2024/01/28/tesla-stocks-down-30-in-a-month-but-one-fund-manager-thinks-hopes-itll-hit-1200/',\n",
      "           'snippet': \"Tesla Inc.'s slowing growth and shrinking profit have \"\n",
      "                      'made it the weakest stock on the Nasdaq 100 this year. '\n",
      "                      'Fund manager David Baron is...',\n",
      "           'date': '11 hours ago',\n",
      "           'source': 'Autoblog',\n",
      "           'imageUrl': 'https://encrypted-tbn0.gstatic.com/images?q=tbn:ANd9GcQCxDWy7TlGclISpzKY5C0gQVOwXC7d1ncREdUcfgwJC5DQpagEGSYMAeQS_g&s',\n",
      "           'position': 6},\n",
      "          {'title': 'Tesla to recall 200000 vehicles in US to fix rearview '\n",
      "                    'glitch - NHTSA',\n",
      "           'link': 'https://www.reuters.com/business/autos-transportation/tesla-recall-199575-vehicles-us-nhtsa-2024-01-26/',\n",
      "           'snippet': 'Tesla is recalling nearly 200000 Model S, X, and Y '\n",
      "                      'vehicles in the U.S. due to a software malfunction that '\n",
      "                      \"could obstruct drivers'...\",\n",
      "           'date': '2 days ago',\n",
      "           'source': 'Reuters',\n",
      "           'imageUrl': 'https://encrypted-tbn0.gstatic.com/images?q=tbn:ANd9GcR9-0f9DZ1_Jq0ZiBkqhfgCtdlLHaUcslYu5km8vDHAJ_5UNjWSSRdWwXLBVg&s',\n",
      "           'position': 7},\n",
      "          {'title': 'IBM, Lam Research rise; Tesla, Humana fall, Thursday, '\n",
      "                    '1/25/2024',\n",
      "           'link': 'https://abcnews.go.com/Business/wireStory/ibm-lam-research-rise-tesla-humana-fall-thursday-106681821',\n",
      "           'snippet': 'Stocks that traded heavily or had substantial price '\n",
      "                      'changes on Thursday: IBM, Lam Research rise; Tesla, '\n",
      "                      'Humana fall.',\n",
      "           'date': '3 days ago',\n",
      "           'source': 'ABC News',\n",
      "           'position': 8},\n",
      "          {'title': 'Tesla expected to open sales and service facility in '\n",
      "                    'Gainesville',\n",
      "           'link': 'https://www.gainesville.com/story/business/2024/01/26/tesla-expected-to-open-sales-and-service-facility-in-gainesville/72369282007/',\n",
      "           'snippet': 'Tesla Inc., the electric vehicle manufacturer, is '\n",
      "                      'expanding its footprint in Florida with a new sales and '\n",
      "                      'service facility in Gainesville,...',\n",
      "           'date': '2 days ago',\n",
      "           'source': 'Gainesville Sun',\n",
      "           'imageUrl': 'https://encrypted-tbn0.gstatic.com/images?q=tbn:ANd9GcTdPghHDGp-Ocaqm4Et3ePU4Gb8HRDjbHgqmYv3fgGpOTyv6Qo5e14B_8JkXQ&s',\n",
      "           'position': 9}]}\n",
      "News Summary:\n",
      "\n",
      "Title: Tesla, Inc. (NASDAQ:TSLA) Q4 2023 Earnings Call Transcript\n",
      "Snippet: Tesla, Inc. (NASDAQ:TSLA) Q4 2023 Earnings Call Transcript January 24, 2024 Tesla, Inc. isn't one of the 30 most popular stocks among hedge...\n",
      "Link: https://finance.yahoo.com/news/tesla-inc-nasdaq-tsla-q4-150736569.html\n",
      "\n",
      "Title: Tesla’s earnings call was a ‘train wreck,’ bullish analyst concedes\n",
      "Snippet: A previous version of this article misstated Tesla's market capitalization. It has been corrected. As Tesla Inc. cuts prices and scales back...\n",
      "Link: https://www.marketwatch.com/story/teslas-train-wreck-earnings-call-has-even-the-bulls-begging-executives-to-act-like-adults-6a75192e\n",
      "\n",
      "Title: You Asked: Is Tesla building a factory in Kuna?\n",
      "Snippet: Rumblings of a Tesla battery plant coming to Kuna made their way through the community recently, causing mixed reactions from residents...\n",
      "Link: https://boisedev.com/news/2024/01/26/hold-your-electric-horses-tesla-rumor-mill-swirls-around-kuna/\n",
      "\n",
      "Title: Tesla (TSLA) Loses Its Luster as Weight Loss Drugmaker Lilly (LLY) Overtakes\n",
      "Snippet: Weight-loss drug innovators have unseated electric-car makers as some of 2024's must-own stocks. Tesla Inc.'s $80 billion wipeout,...\n",
      "Link: https://www.bloomberg.com/news/articles/2024-01-25/tesla-tsla-loses-its-luster-as-weight-loss-drugmaker-lilly-lly-overtakes\n",
      "\n",
      "Title: Tesla recalls 200,000 vehicles over rearview camera display issue\n",
      "Snippet: Tesla is recalling nearly 200000 of its model year 2023 vehicles due to an issue with the rearview camera.\n",
      "Link: https://www.foxbusiness.com/markets/tesla-recalls-200000-vehilces-software-related-rearview-display-issue\n",
      "\n",
      "Title: Tesla stock's down 30% in a month, but one fund manager thinks (hopes?) it'll hit $1,200\n",
      "Snippet: Tesla Inc.'s slowing growth and shrinking profit have made it the weakest stock on the Nasdaq 100 this year. Fund manager David Baron is...\n",
      "Link: https://www.autoblog.com/2024/01/28/tesla-stocks-down-30-in-a-month-but-one-fund-manager-thinks-hopes-itll-hit-1200/\n",
      "\n",
      "Title: Tesla to recall 200000 vehicles in US to fix rearview glitch - NHTSA\n",
      "Snippet: Tesla is recalling nearly 200000 Model S, X, and Y vehicles in the U.S. due to a software malfunction that could obstruct drivers'...\n",
      "Link: https://www.reuters.com/business/autos-transportation/tesla-recall-199575-vehicles-us-nhtsa-2024-01-26/\n",
      "\n",
      "Title: IBM, Lam Research rise; Tesla, Humana fall, Thursday, 1/25/2024\n",
      "Snippet: Stocks that traded heavily or had substantial price changes on Thursday: IBM, Lam Research rise; Tesla, Humana fall.\n",
      "Link: https://abcnews.go.com/Business/wireStory/ibm-lam-research-rise-tesla-humana-fall-thursday-106681821\n",
      "\n",
      "Title: Tesla expected to open sales and service facility in Gainesville\n",
      "Snippet: Tesla Inc., the electric vehicle manufacturer, is expanding its footprint in Florida with a new sales and service facility in Gainesville,...\n",
      "Link: https://www.gainesville.com/story/business/2024/01/26/tesla-expected-to-open-sales-and-service-facility-in-gainesville/72369282007/\n",
      "\n",
      "\n"
     ]
    }
   ],
   "source": [
    "\n",
    "\n",
    "# Step 1: Collect the data\n",
    "search = GoogleSerperAPIWrapper(type=\"news\")\n",
    "results = search.results(\"Tesla Inc.\")\n",
    "pprint.pp(results)\n",
    "\n",
    "# Step 2: Process the data\n",
    "articles = []\n",
    "for news_item in results['news']:\n",
    "    articles.append({\n",
    "        'title': news_item['title'],\n",
    "        'snippet': news_item['snippet'],\n",
    "        'link': news_item['link']\n",
    "    })\n",
    "\n",
    "# Step 3: Summarize the data\n",
    "summary = \"\"\n",
    "for article in articles:\n",
    "    summary += f\"Title: {article['title']}\\nSnippet: {article['snippet']}\\nLink: {article['link']}\\n\\n\"\n",
    "\n",
    "# Step 4: Present the summary\n",
    "print(\"News Summary:\\n\")\n",
    "print(summary)\n"
   ]
  },
  {
   "cell_type": "code",
   "execution_count": null,
   "id": "834beb7d-2731-4bf6-a622-9db2b9455285",
   "metadata": {},
   "outputs": [],
   "source": []
  }
 ],
 "metadata": {
  "environment": {
   "kernel": "python3",
   "name": "common-cpu.m115",
   "type": "gcloud",
   "uri": "gcr.io/deeplearning-platform-release/base-cpu:m115"
  },
  "kernelspec": {
   "display_name": "Python 3 (Local)",
   "language": "python",
   "name": "python3"
  },
  "language_info": {
   "codemirror_mode": {
    "name": "ipython",
    "version": 3
   },
   "file_extension": ".py",
   "mimetype": "text/x-python",
   "name": "python",
   "nbconvert_exporter": "python",
   "pygments_lexer": "ipython3",
   "version": "3.10.13"
  }
 },
 "nbformat": 4,
 "nbformat_minor": 5
}
